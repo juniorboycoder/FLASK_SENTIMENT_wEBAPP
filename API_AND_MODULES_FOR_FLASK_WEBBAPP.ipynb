{
 "cells": [
  {
   "cell_type": "markdown",
   "metadata": {},
   "source": [
    "### IBM API USED TO GET ,SENTIMENTS , EMOTIONS , AND CATEGORIES OF SENTENCE KEYWORDS AND ENTITIES"
   ]
  },
  {
   "cell_type": "code",
   "execution_count": 10,
   "metadata": {},
   "outputs": [],
   "source": [
    "#import libraries\n",
    "import json\n",
    "from ibm_watson import NaturalLanguageUnderstandingV1\n",
    "from ibm_cloud_sdk_core.authenticators import IAMAuthenticator\n",
    "from ibm_watson.natural_language_understanding_v1   import Features, EntitiesOptions, KeywordsOptions, SentimentOptions,CategoriesOptions"
   ]
  },
  {
   "cell_type": "code",
   "execution_count": 13,
   "metadata": {},
   "outputs": [],
   "source": [
    "#IBM API Credentials\n",
    "authenticator = IAMAuthenticator('your IAMAuthenticator credential')\n",
    "natural_language_understanding = NaturalLanguageUnderstandingV1(\n",
    "    version='2020-08-01',\n",
    "    authenticator=authenticator\n",
    ")\n",
    "\n",
    "#API Endpoint\n",
    "natural_language_understanding.set_service_url('https://api.eu-gb.natural-language-understanding.watson.cloud.ibm.com/instances/a8f00db8-d8f7-465f-9fc6-89722ba0af65')\n"
   ]
  },
  {
   "cell_type": "code",
   "execution_count": 14,
   "metadata": {},
   "outputs": [
    {
     "name": "stdout",
     "output_type": "stream",
     "text": [
      "{\n",
      "  \"usage\": {\n",
      "    \"text_units\": 1,\n",
      "    \"text_characters\": 16,\n",
      "    \"features\": 4\n",
      "  },\n",
      "  \"sentiment\": {\n",
      "    \"document\": {\n",
      "      \"score\": 0.941292,\n",
      "      \"label\": \"positive\"\n",
      "    }\n",
      "  },\n",
      "  \"language\": \"en\",\n",
      "  \"keywords\": [\n",
      "    {\n",
      "      \"text\": \"boy\",\n",
      "      \"sentiment\": {\n",
      "        \"score\": 0.941292,\n",
      "        \"label\": \"positive\"\n",
      "      },\n",
      "      \"relevance\": 0.980057,\n",
      "      \"emotion\": {\n",
      "        \"sadness\": 0.058281,\n",
      "        \"joy\": 0.878162,\n",
      "        \"fear\": 0.009074,\n",
      "        \"disgust\": 0.02164,\n",
      "        \"anger\": 0.025447\n",
      "      },\n",
      "      \"count\": 1\n",
      "    }\n",
      "  ],\n",
      "  \"entities\": [],\n",
      "  \"categories\": [\n",
      "    {\n",
      "      \"score\": 0.619121,\n",
      "      \"label\": \"/family and parenting/children\"\n",
      "    },\n",
      "    {\n",
      "      \"score\": 0.57616,\n",
      "      \"label\": \"/society/social institution/divorce\"\n",
      "    },\n",
      "    {\n",
      "      \"score\": 0.56077,\n",
      "      \"label\": \"/family and parenting/babies and toddlers/baby clothes\"\n",
      "    }\n",
      "  ]\n",
      "}\n"
     ]
    }
   ],
   "source": [
    "#Use it to get Sentiment , Emotions, Category from a text sentence and print out result.\n",
    "response = natural_language_understanding.analyze(\n",
    "    text='The boy is good.',\n",
    "    features=Features(\n",
    "        entities=EntitiesOptions(emotion=True, sentiment=True, limit=1),\n",
    "        keywords=KeywordsOptions(emotion=True, sentiment=True,\n",
    "                                 limit=2),\n",
    "        sentiment=SentimentOptions(),\n",
    "        categories=CategoriesOptions())).get_result()\n",
    "\n",
    "print(json.dumps(response, indent=2))\n",
    "result=json.dumps(response, indent=1)"
   ]
  },
  {
   "cell_type": "markdown",
   "metadata": {},
   "source": [
    "### VADER LIBRARY FOR WORD SENTIMENT"
   ]
  },
  {
   "cell_type": "code",
   "execution_count": 9,
   "metadata": {},
   "outputs": [
    {
     "name": "stderr",
     "output_type": "stream",
     "text": [
      "[nltk_data] Downloading package vader_lexicon to\n",
      "[nltk_data]     C:\\Users\\admin\\AppData\\Roaming\\nltk_data...\n",
      "[nltk_data]   Package vader_lexicon is already up-to-date!\n"
     ]
    },
    {
     "data": {
      "text/plain": [
       "True"
      ]
     },
     "execution_count": 9,
     "metadata": {},
     "output_type": "execute_result"
    }
   ],
   "source": [
    "#install the vader library\n",
    "import nltk\n",
    "nltk.download('vader_lexicon')"
   ]
  },
  {
   "cell_type": "code",
   "execution_count": 2,
   "metadata": {},
   "outputs": [],
   "source": [
    "#import vader library\n",
    "from nltk.sentiment.vader import SentimentIntensityAnalyzer\n",
    "import pandas as pd"
   ]
  },
  {
   "cell_type": "code",
   "execution_count": 3,
   "metadata": {},
   "outputs": [],
   "source": [
    "#function to get the sentiments by words\n",
    "def func(x):\n",
    "    if x > 0:\n",
    "        return \"positive\"\n",
    "    elif x == 0:\n",
    "        return \"Neutral\"\n",
    "    else:\n",
    "        return 'Negative'"
   ]
  },
  {
   "cell_type": "code",
   "execution_count": 4,
   "metadata": {},
   "outputs": [
    {
     "data": {
      "text/plain": [
       "{'neg': 0.0, 'neu': 1.0, 'pos': 0.0, 'compound': 0.0}"
      ]
     },
     "execution_count": 4,
     "metadata": {},
     "output_type": "execute_result"
    }
   ],
   "source": [
    "sid = SentimentIntensityAnalyzer()\n",
    "a = 'rat'\n",
    "d=sid.polarity_scores(a)\n",
    "d"
   ]
  },
  {
   "cell_type": "code",
   "execution_count": 5,
   "metadata": {},
   "outputs": [
    {
     "data": {
      "text/html": [
       "<div>\n",
       "<style scoped>\n",
       "    .dataframe tbody tr th:only-of-type {\n",
       "        vertical-align: middle;\n",
       "    }\n",
       "\n",
       "    .dataframe tbody tr th {\n",
       "        vertical-align: top;\n",
       "    }\n",
       "\n",
       "    .dataframe thead th {\n",
       "        text-align: right;\n",
       "    }\n",
       "</style>\n",
       "<table border=\"1\" class=\"dataframe\">\n",
       "  <thead>\n",
       "    <tr style=\"text-align: right;\">\n",
       "      <th></th>\n",
       "      <th>neg</th>\n",
       "      <th>neu</th>\n",
       "      <th>pos</th>\n",
       "      <th>compound</th>\n",
       "    </tr>\n",
       "  </thead>\n",
       "  <tbody>\n",
       "    <tr>\n",
       "      <th>0</th>\n",
       "      <td>0.0</td>\n",
       "      <td>1.0</td>\n",
       "      <td>0.0</td>\n",
       "      <td>0.0</td>\n",
       "    </tr>\n",
       "  </tbody>\n",
       "</table>\n",
       "</div>"
      ],
      "text/plain": [
       "   neg  neu  pos  compound\n",
       "0  0.0  1.0  0.0       0.0"
      ]
     },
     "execution_count": 5,
     "metadata": {},
     "output_type": "execute_result"
    }
   ],
   "source": [
    "e=pd.DataFrame(d,index=[0])\n",
    "e"
   ]
  },
  {
   "cell_type": "code",
   "execution_count": 6,
   "metadata": {},
   "outputs": [],
   "source": [
    "f=e.apply(lambda score_dict: e['compound'])"
   ]
  },
  {
   "cell_type": "code",
   "execution_count": 7,
   "metadata": {},
   "outputs": [],
   "source": [
    "g=e['compound'].apply(func)\n"
   ]
  },
  {
   "cell_type": "code",
   "execution_count": 8,
   "metadata": {},
   "outputs": [
    {
     "data": {
      "text/plain": [
       "'Neutral'"
      ]
     },
     "execution_count": 8,
     "metadata": {},
     "output_type": "execute_result"
    }
   ],
   "source": [
    "g[0]"
   ]
  },
  {
   "cell_type": "markdown",
   "metadata": {},
   "source": [
    "### GENSIM LIBRARY FOR SUMMARIZATION"
   ]
  },
  {
   "cell_type": "code",
   "execution_count": 15,
   "metadata": {},
   "outputs": [],
   "source": [
    "\n",
    "from gensim.summarization.summarizer import summarize\n",
    "from gensim.summarization import keywords"
   ]
  },
  {
   "cell_type": "code",
   "execution_count": 16,
   "metadata": {},
   "outputs": [
    {
     "name": "stdout",
     "output_type": "stream",
     "text": [
      "Imagine you’re sitting at a table in a restaurant with a menu of choices to order from.\n",
      "What is missing is the critical link to communicate your order to the kitchen and deliver your food back to your table.\n",
      "The waiter is the messenger – or API – that takes your request or order and tells the kitchen – the system – what to do.\n"
     ]
    }
   ],
   "source": [
    "#summarize\n",
    "text1 = \"Imagine you’re sitting at a table in a restaurant with a menu of choices to order from. The kitchen is the part of the “system” that will prepare your order. What is missing is the critical link to communicate your order to the kitchen and deliver your food back to your table. That’s where the waiter or API comes in. The waiter is the messenger – or API – that takes your request or order and tells the kitchen – the system – what to do. Then the waiter delivers the response back to you; in this case, it is the food.\"\n",
    "\n",
    "#sumaarize into two paragraphs\n",
    "print(summarize(text1, ratio=0.5))"
   ]
  },
  {
   "cell_type": "code",
   "execution_count": 17,
   "metadata": {},
   "outputs": [
    {
     "name": "stdout",
     "output_type": "stream",
     "text": [
      "deliver\n",
      "delivers\n"
     ]
    }
   ],
   "source": [
    "#get keywords\n",
    "print(keywords(text1))"
   ]
  },
  {
   "cell_type": "code",
   "execution_count": null,
   "metadata": {},
   "outputs": [],
   "source": []
  }
 ],
 "metadata": {
  "kernelspec": {
   "display_name": "Python 3",
   "language": "python",
   "name": "python3"
  },
  "language_info": {
   "codemirror_mode": {
    "name": "ipython",
    "version": 3
   },
   "file_extension": ".py",
   "mimetype": "text/x-python",
   "name": "python",
   "nbconvert_exporter": "python",
   "pygments_lexer": "ipython3",
   "version": "3.7.3"
  }
 },
 "nbformat": 4,
 "nbformat_minor": 2
}
